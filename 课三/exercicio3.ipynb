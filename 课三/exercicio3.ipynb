{
 "cells": [
  {
   "cell_type": "markdown",
   "metadata": {},
   "source": [
    "# Redes Neurais Artificiais\n",
    " **Nome: João Pedro Miranda Marques**\n",
    " \n",
    " **Matrícula: 2017050495** "
   ]
  },
  {
   "cell_type": "markdown",
   "metadata": {},
   "source": [
    "## Exercicio 3 - Adaline"
   ]
  },
  {
   "cell_type": "code",
   "execution_count": 3,
   "metadata": {},
   "outputs": [],
   "source": [
    "import matplotlib.pyplot as plt\n",
    "import numpy as np\n",
    "import pandas as pd\n",
    "import random as rd"
   ]
  },
  {
   "cell_type": "markdown",
   "metadata": {},
   "source": [
    "### Treinamento Adaline"
   ]
  },
  {
   "cell_type": "code",
   "execution_count": 59,
   "metadata": {},
   "outputs": [],
   "source": [
    "\n",
    "# w(t + 1) = w(t) + η ei xi\n",
    "def trainAdaline(xin, yd, eta, tol, maxepocas, par):\n",
    "# xin : matriz Nxn com os dados de entrada\n",
    "# yd: r ́otulos de saída (0 ou 1)\n",
    "# eta : passo de treinamento\n",
    "# tol : tolerˆancia de erro\n",
    "# maxepocas: nu ́mero ma ́ximo de itera ̧co ̃es par : parˆametro de entrada .\n",
    "# # par=0 ==> xin tem dimens ̃ao n+1 e j ́a inclui\n",
    "# # entrada correspondente ao termo\n",
    "# # de polarizac ̧ ̃ao.\n",
    "# # par=1 ==> xin tem dimens ̃ao n e na ̃o inclui\n",
    "\n",
    "\n",
    "    nSamples = len(xin)       # Numero de amostras.\n",
    "    nDimension = 1 #len(xin[0])      # Dimensao de entrada.\n",
    "\n",
    "    xin = pd.DataFrame(xin.reshape(nSamples,nDimension))\n",
    "    yd = pd.DataFrame(yd.reshape(nSamples,nDimension))\n",
    "\n",
    "    # Adiciona ou não um termo de polarização ao vetor de treinamento w.\n",
    "    if par == 1:\n",
    "        wt = pd.DataFrame(np.random.sample(nDimension+1) - 0.5)\n",
    "        xin.insert(nDimension, nDimension, 1)\n",
    "    else:\n",
    "        wt = pd.DataFrame(np.random.sample(nDimension) - 0.5)\n",
    "\n",
    "    nepocas = 0 # Contador de epocas\n",
    "    eepoca = tol + 1 # Acumulador de erro de epocas\n",
    "\n",
    "    evec = [maxepocas] # Vetor de erros\n",
    "\n",
    "    print(\"xin: \\n\", xin)\n",
    "\n",
    "    # Laço principal de treinamento\n",
    "    while (nepocas < maxepocas) & (eepoca > tol):\n",
    "        ei2 = 0\n",
    "        #Sequencia aleatória de treinamento\n",
    "        xseq = np.random.randint(0, nSamples, nSamples)\n",
    "\n",
    "        for i in range(nSamples):\n",
    "\n",
    "            # Amostra dado da sequencia aleatória\n",
    "            irand = xseq[i]\n",
    "            print(\"\\n irand: \\n\", irand)\n",
    "\n",
    "            # Calcula saída do Adaline\n",
    "            print(\"\\n xin.loc[irand]: \\n\", pd.DataFrame.reindex(xin.loc[irand]))\n",
    "            yhati = 1.0 * np.dot(wt.T, pd.DataFrame(xin.loc[irand])) # yhati = xin[i] X wt.T\n",
    "            yhati = pd.DataFrame(yhati)\n",
    "            print(\"\\n yhati: \\n\", yhati)\n",
    "\n",
    "            # Calcula erro\n",
    "            print(\"\\n yd.loc[irand]: \\n\", yd.loc[irand])\n",
    "            ei = yd.loc[irand] - yhati # erro: ei = (yi − yˆi)\n",
    "            ei = pd.to_numeric(ei[0][0])\n",
    "            print(\"\\n ei: \\n\", ei)\n",
    "\n",
    "            # Calcula variaçao no peso\n",
    "            dw = eta * (ei * xin.loc[irand])  # dw = η ei xi\n",
    "            print(\"\\n dw: \\n\", dw)\n",
    "\n",
    "            # Ajusta vetor de pesos\n",
    "            print(\"\\n wt: \\n\", wt)\n",
    "            wt = wt + pd.DataFrame(dw) # w(t+1) = w(t) + dw(t)\n",
    "            print(\"\\n wt = wt + dw: \\n\", wt)\n",
    "            \n",
    "            # Acumula erro por época\n",
    "            print(\"\\n ei depois: \\n\", ei)\n",
    "            ei2 += ei**2 \n",
    "            print(\"\\n ei2: \\n\", ei2)\n",
    "\n",
    "        # Incrementa número de épocas\n",
    "        nepocas = nepocas + 1\n",
    "        evec[nepocas] = ei2/nSamples\n",
    "        # Armazena erro por época\n",
    "        eepoca = evec[nepocas]\n",
    "\n",
    "    # Retorna vetores de pesos e de erros\n",
    "    retlist = [wt, evec[1:nepocas]]\n",
    "\n",
    "    return retlist\n",
    "    "
   ]
  },
  {
   "cell_type": "markdown",
   "metadata": {},
   "source": [
    "### Estudo Slides"
   ]
  },
  {
   "cell_type": "markdown",
   "metadata": {},
   "source": [
    "Suponha que a fun ̧c ̃ao f(x) represente um processo industrial que aumenta em 4 vezes a magnitude de qualquer sinal em sua entrada e adiciona duas unidades ao valor obtido.\n",
    "\n",
    "f(x) = 4x + 2"
   ]
  },
  {
   "cell_type": "code",
   "execution_count": 60,
   "metadata": {},
   "outputs": [
    {
     "name": "stdout",
     "output_type": "stream",
     "text": [
      "xin: \n",
      "                0  1\n",
      "0   0.000000e+00  1\n",
      "1   3.090170e-01  1\n",
      "2   5.877853e-01  1\n",
      "3   8.090170e-01  1\n",
      "4   9.510565e-01  1\n",
      "5   1.000000e+00  1\n",
      "6   9.510565e-01  1\n",
      "7   8.090170e-01  1\n",
      "8   5.877853e-01  1\n",
      "9   3.090170e-01  1\n",
      "10  1.224647e-16  1\n",
      "11 -3.090170e-01  1\n",
      "12 -5.877853e-01  1\n",
      "13 -8.090170e-01  1\n",
      "14 -9.510565e-01  1\n",
      "15 -1.000000e+00  1\n",
      "16 -9.510565e-01  1\n",
      "17 -8.090170e-01  1\n",
      "18 -5.877853e-01  1\n",
      "19 -3.090170e-01  1\n",
      "\n",
      " irand: \n",
      " 10\n"
     ]
    },
    {
     "ename": "TypeError",
     "evalue": "super(type, obj): obj must be an instance or subtype of type",
     "output_type": "error",
     "traceback": [
      "\u001b[0;31m---------------------------------------------------------------------------\u001b[0m",
      "\u001b[0;31mTypeError\u001b[0m                                 Traceback (most recent call last)",
      "\u001b[1;32m/Users/jota/Desktop/RNA/Artificial Neural Networks/课三/exercicio3.ipynb Cell 8'\u001b[0m in \u001b[0;36m<cell line: 9>\u001b[0;34m()\u001b[0m\n\u001b[1;32m      <a href='vscode-notebook-cell:/Users/jota/Desktop/RNA/Artificial%20Neural%20Networks/%E8%AF%BE%E4%B8%89/exercicio3.ipynb#ch0000007?line=2'>3</a>\u001b[0m y \u001b[39m=\u001b[39m \u001b[39m4\u001b[39m\u001b[39m*\u001b[39mx \u001b[39m+\u001b[39m \u001b[39m2\u001b[39m\n\u001b[1;32m      <a href='vscode-notebook-cell:/Users/jota/Desktop/RNA/Artificial%20Neural%20Networks/%E8%AF%BE%E4%B8%89/exercicio3.ipynb#ch0000007?line=4'>5</a>\u001b[0m \u001b[39m# x = pd.DataFrame(x.reshape(20,1))\u001b[39;00m\n\u001b[1;32m      <a href='vscode-notebook-cell:/Users/jota/Desktop/RNA/Artificial%20Neural%20Networks/%E8%AF%BE%E4%B8%89/exercicio3.ipynb#ch0000007?line=5'>6</a>\u001b[0m \u001b[39m# print(x)\u001b[39;00m\n\u001b[1;32m      <a href='vscode-notebook-cell:/Users/jota/Desktop/RNA/Artificial%20Neural%20Networks/%E8%AF%BE%E4%B8%89/exercicio3.ipynb#ch0000007?line=6'>7</a>\u001b[0m \u001b[39m# print(x[5])\u001b[39;00m\n\u001b[0;32m----> <a href='vscode-notebook-cell:/Users/jota/Desktop/RNA/Artificial%20Neural%20Networks/%E8%AF%BE%E4%B8%89/exercicio3.ipynb#ch0000007?line=8'>9</a>\u001b[0m retlist \u001b[39m=\u001b[39m trainAdaline(x,y,\u001b[39m0.01\u001b[39;49m,\u001b[39m0.01\u001b[39;49m,\u001b[39m50\u001b[39;49m,\u001b[39m1\u001b[39;49m)\n",
      "\u001b[1;32m/Users/jota/Desktop/RNA/Artificial Neural Networks/课三/exercicio3.ipynb Cell 5'\u001b[0m in \u001b[0;36mtrainAdaline\u001b[0;34m(xin, yd, eta, tol, maxepocas, par)\u001b[0m\n\u001b[1;32m     <a href='vscode-notebook-cell:/Users/jota/Desktop/RNA/Artificial%20Neural%20Networks/%E8%AF%BE%E4%B8%89/exercicio3.ipynb#ch0000004?line=43'>44</a>\u001b[0m \u001b[39mprint\u001b[39m(\u001b[39m\"\u001b[39m\u001b[39m\\n\u001b[39;00m\u001b[39m irand: \u001b[39m\u001b[39m\\n\u001b[39;00m\u001b[39m\"\u001b[39m, irand)\n\u001b[1;32m     <a href='vscode-notebook-cell:/Users/jota/Desktop/RNA/Artificial%20Neural%20Networks/%E8%AF%BE%E4%B8%89/exercicio3.ipynb#ch0000004?line=45'>46</a>\u001b[0m \u001b[39m# Calcula saída do Adaline\u001b[39;00m\n\u001b[0;32m---> <a href='vscode-notebook-cell:/Users/jota/Desktop/RNA/Artificial%20Neural%20Networks/%E8%AF%BE%E4%B8%89/exercicio3.ipynb#ch0000004?line=46'>47</a>\u001b[0m \u001b[39mprint\u001b[39m(\u001b[39m\"\u001b[39m\u001b[39m\\n\u001b[39;00m\u001b[39m xin.loc[irand]: \u001b[39m\u001b[39m\\n\u001b[39;00m\u001b[39m\"\u001b[39m, pd\u001b[39m.\u001b[39;49mDataFrame\u001b[39m.\u001b[39;49mreindex(xin\u001b[39m.\u001b[39;49mloc[irand]))\n\u001b[1;32m     <a href='vscode-notebook-cell:/Users/jota/Desktop/RNA/Artificial%20Neural%20Networks/%E8%AF%BE%E4%B8%89/exercicio3.ipynb#ch0000004?line=47'>48</a>\u001b[0m yhati \u001b[39m=\u001b[39m \u001b[39m1.0\u001b[39m \u001b[39m*\u001b[39m np\u001b[39m.\u001b[39mdot(wt\u001b[39m.\u001b[39mT, pd\u001b[39m.\u001b[39mDataFrame(xin\u001b[39m.\u001b[39mloc[irand])) \u001b[39m# yhati = xin[i] X wt.T\u001b[39;00m\n\u001b[1;32m     <a href='vscode-notebook-cell:/Users/jota/Desktop/RNA/Artificial%20Neural%20Networks/%E8%AF%BE%E4%B8%89/exercicio3.ipynb#ch0000004?line=48'>49</a>\u001b[0m yhati \u001b[39m=\u001b[39m pd\u001b[39m.\u001b[39mDataFrame(yhati)\n",
      "File \u001b[0;32m/opt/homebrew/lib/python3.9/site-packages/pandas/util/_decorators.py:324\u001b[0m, in \u001b[0;36mrewrite_axis_style_signature.<locals>.decorate.<locals>.wrapper\u001b[0;34m(*args, **kwargs)\u001b[0m\n\u001b[1;32m    <a href='file:///opt/homebrew/lib/python3.9/site-packages/pandas/util/_decorators.py?line=321'>322</a>\u001b[0m \u001b[39m@wraps\u001b[39m(func)\n\u001b[1;32m    <a href='file:///opt/homebrew/lib/python3.9/site-packages/pandas/util/_decorators.py?line=322'>323</a>\u001b[0m \u001b[39mdef\u001b[39;00m \u001b[39mwrapper\u001b[39m(\u001b[39m*\u001b[39margs, \u001b[39m*\u001b[39m\u001b[39m*\u001b[39mkwargs) \u001b[39m-\u001b[39m\u001b[39m>\u001b[39m Callable[\u001b[39m.\u001b[39m\u001b[39m.\u001b[39m\u001b[39m.\u001b[39m, Any]:\n\u001b[0;32m--> <a href='file:///opt/homebrew/lib/python3.9/site-packages/pandas/util/_decorators.py?line=323'>324</a>\u001b[0m     \u001b[39mreturn\u001b[39;00m func(\u001b[39m*\u001b[39;49margs, \u001b[39m*\u001b[39;49m\u001b[39m*\u001b[39;49mkwargs)\n",
      "File \u001b[0;32m/opt/homebrew/lib/python3.9/site-packages/pandas/core/frame.py:4804\u001b[0m, in \u001b[0;36mDataFrame.reindex\u001b[0;34m(self, *args, **kwargs)\u001b[0m\n\u001b[1;32m   <a href='file:///opt/homebrew/lib/python3.9/site-packages/pandas/core/frame.py?line=4801'>4802</a>\u001b[0m kwargs\u001b[39m.\u001b[39mpop(\u001b[39m\"\u001b[39m\u001b[39maxis\u001b[39m\u001b[39m\"\u001b[39m, \u001b[39mNone\u001b[39;00m)\n\u001b[1;32m   <a href='file:///opt/homebrew/lib/python3.9/site-packages/pandas/core/frame.py?line=4802'>4803</a>\u001b[0m kwargs\u001b[39m.\u001b[39mpop(\u001b[39m\"\u001b[39m\u001b[39mlabels\u001b[39m\u001b[39m\"\u001b[39m, \u001b[39mNone\u001b[39;00m)\n\u001b[0;32m-> <a href='file:///opt/homebrew/lib/python3.9/site-packages/pandas/core/frame.py?line=4803'>4804</a>\u001b[0m \u001b[39mreturn\u001b[39;00m \u001b[39msuper\u001b[39;49m()\u001b[39m.\u001b[39mreindex(\u001b[39m*\u001b[39m\u001b[39m*\u001b[39mkwargs)\n",
      "\u001b[0;31mTypeError\u001b[0m: super(type, obj): obj must be an instance or subtype of type"
     ]
    }
   ],
   "source": [
    "\n",
    "t = np.arange(0, 2*np.pi, 0.1*np.pi)\n",
    "x = np.sin(t)\n",
    "y = 4*x + 2\n",
    "\n",
    "# x = pd.DataFrame(x.reshape(20,1))\n",
    "# print(x)\n",
    "# print(x[5])\n",
    "\n",
    "retlist = trainAdaline(x,y,0.01,0.01,50,1)\n"
   ]
  }
 ],
 "metadata": {
  "interpreter": {
   "hash": "b0fa6594d8f4cbf19f97940f81e996739fb7646882a419484c72d19e05852a7e"
  },
  "kernelspec": {
   "display_name": "Python 3.9.10 64-bit",
   "language": "python",
   "name": "python3"
  },
  "language_info": {
   "codemirror_mode": {
    "name": "ipython",
    "version": 3
   },
   "file_extension": ".py",
   "mimetype": "text/x-python",
   "name": "python",
   "nbconvert_exporter": "python",
   "pygments_lexer": "ipython3",
   "version": "3.9.12"
  },
  "orig_nbformat": 4
 },
 "nbformat": 4,
 "nbformat_minor": 2
}

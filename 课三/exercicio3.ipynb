{
 "cells": [
  {
   "cell_type": "markdown",
   "metadata": {},
   "source": [
    "# Redes Neurais Artificiais\n",
    " **Nome: João Pedro Miranda Marques**\n",
    " \n",
    " **Matrícula: 2017050495** "
   ]
  },
  {
   "cell_type": "markdown",
   "metadata": {},
   "source": [
    "## Exercicio 3 - Adaline"
   ]
  },
  {
   "cell_type": "code",
   "execution_count": 3,
   "metadata": {},
   "outputs": [],
   "source": [
    "import matplotlib.pyplot as plt\n",
    "import numpy as np\n",
    "import pandas as pd\n",
    "import random as rd"
   ]
  },
  {
   "cell_type": "markdown",
   "metadata": {},
   "source": [
    "### Treinamento Adaline"
   ]
  },
  {
   "cell_type": "code",
   "execution_count": 179,
   "metadata": {},
   "outputs": [],
   "source": [
    "\n",
    "# w(t + 1) = w(t) + η ei xi\n",
    "def trainAdaline(xin, yd, eta, tol, maxepocas, par):\n",
    "# xin : matriz Nxn com os dados de entrada\n",
    "# yd: r ́otulos de saída (0 ou 1)\n",
    "# eta : passo de treinamento\n",
    "# tol : tolerˆancia de erro\n",
    "# maxepocas: nu ́mero ma ́ximo de itera ̧co ̃es par : parˆametro de entrada .\n",
    "# # par=0 ==> xin tem dimens ̃ao n+1 e j ́a inclui\n",
    "# # entrada correspondente ao termo\n",
    "# # de polarizac ̧ ̃ao.\n",
    "# # par=1 ==> xin tem dimens ̃ao n e na ̃o inclui\n",
    "\n",
    "    xin = pd.DataFrame(xin)\n",
    "    yd = pd.DataFrame(yd)\n",
    "    # print(\"\\n xin: \\n\", xin)\n",
    "    # print(\"\\n yd: \\n\", yd)\n",
    "\n",
    "    nSamples = xin.shape[0]     # Numero de amostras.\n",
    "    nDimension = xin.shape[1]     # Dimensao de entrada.\n",
    "    # print(\"\\n nSamples: \\n\", nSamples)\n",
    "    # print(\"\\n nDimension: \\n\", nDimension)\n",
    "\n",
    "    # Adiciona ou não um termo de polarização ao vetor de treinamento w.\n",
    "    if par == 1:\n",
    "        wt = pd.DataFrame(np.random.sample(nDimension+1) - 0.5)\n",
    "        xin.insert(nDimension, nDimension, 1)\n",
    "    else:\n",
    "        wt = pd.DataFrame(np.random.sample(nDimension) - 0.5)\n",
    "\n",
    "    nepocas = 0 # Contador de epocas\n",
    "    eepoca = tol + 1 # Acumulador de erro de epocas\n",
    "\n",
    "    evec = [maxepocas] # Vetor de erros\n",
    "\n",
    "    # print(\"xin: \\n\", xin)\n",
    "\n",
    "    # Laço principal de treinamento\n",
    "    while (nepocas < maxepocas) & (eepoca > tol):\n",
    "        ei2 = 0\n",
    "        #Sequencia aleatória de treinamento\n",
    "        xseq = np.random.randint(0, nSamples, nSamples)\n",
    "\n",
    "        for i in range(nSamples):\n",
    "\n",
    "            # Amostra dado da sequencia aleatória\n",
    "            irand = xseq[i]\n",
    "            # print(\"\\n irand: \\n\", irand)\n",
    "\n",
    "            # Calcula saída do Adaline\n",
    "            # print(\"\\n xin.loc[irand]: \\n\", pd.DataFrame(xin.loc[irand]))\n",
    "            # print(\"\\n wt.T: \\n\", wt.T)\n",
    "            yhati = 1.0 * np.dot(wt.T, pd.DataFrame(xin.loc[irand])) # yhati = xin[i] X wt.T\n",
    "            yhati = pd.DataFrame(yhati)\n",
    "            # print(\"\\n yhati = xin[i] X wt.T: \\n\", yhati)\n",
    "\n",
    "            # Calcula erro\n",
    "            # print(\"\\n yd.loc[irand]: \\n\", yd.loc[irand])\n",
    "            ei = yd.loc[irand] - yhati        # erro: ei = (yi − yˆi)\n",
    "            ei = pd.to_numeric(ei[0][0])\n",
    "            # print(\"\\n ei: \\n\", ei)\n",
    "\n",
    "            # Calcula variaçao no peso\n",
    "            dw = eta * (ei * xin.loc[irand])  # dw = η ei xis\n",
    "            dw = pd.DataFrame(dw).to_numpy()\n",
    "            # print(\"\\n dw = eta ei xi: \\n\", dw)\n",
    "\n",
    "            # Ajusta vetor de pesos\n",
    "            wt = pd.DataFrame(wt).to_numpy()\n",
    "            # print(\"\\n wt: \\n\", wt)\n",
    "            wt = wt + dw                     # w(t+1) = w(t) + dw(t) \n",
    "            # print(\"\\n wt = wt + dw: \\n\", wt)\n",
    "            \n",
    "            # Acumula erro por época\n",
    "            # print(\"\\n ei depois: \\n\", ei)\n",
    "            ei2 += ei**2 \n",
    "            # print(\"\\n ei2: \\n\", ei2)\n",
    "\n",
    "        # Incrementa número de épocas\n",
    "        nepocas = nepocas + 1\n",
    "        # print(\"\\n ei2: \\n\", ei2)\n",
    "        evec.append(ei2/nSamples)\n",
    "        # Armazena erro por época\n",
    "        eepoca = evec[nepocas]\n",
    "        # print(\"\\n eepoca: \\n\", eepoca)\n",
    "\n",
    "    # Retorna vetores de pesos e de erros\n",
    "    retlist = [wt, evec[1:nepocas]]\n",
    "\n",
    "    return retlist\n",
    "    "
   ]
  },
  {
   "cell_type": "markdown",
   "metadata": {},
   "source": [
    "### Estudo Slides"
   ]
  },
  {
   "cell_type": "markdown",
   "metadata": {},
   "source": [
    "Suponha que a fun ̧c ̃ao f(x) represente um processo industrial que aumenta em 4 vezes a magnitude de qualquer sinal em sua entrada e adiciona duas unidades ao valor obtido.\n",
    "\n",
    "f(x) = 4x + 2"
   ]
  },
  {
   "cell_type": "code",
   "execution_count": 180,
   "metadata": {},
   "outputs": [
    {
     "name": "stdout",
     "output_type": "stream",
     "text": [
      "[[3.86766883]\n",
      " [2.00408901]]\n"
     ]
    }
   ],
   "source": [
    "\n",
    "t = np.arange(0, 2*np.pi, 0.1*np.pi)\n",
    "x = np.sin(t)\n",
    "y = 4*x + 2\n",
    "\n",
    "retlist = trainAdaline(x,y,0.01,0.01,50,1)\n",
    "w = retlist[0]\n",
    "erro = retlist[1]\n",
    "\n",
    "print(w)\n"
   ]
  }
 ],
 "metadata": {
  "interpreter": {
   "hash": "b0fa6594d8f4cbf19f97940f81e996739fb7646882a419484c72d19e05852a7e"
  },
  "kernelspec": {
   "display_name": "Python 3.9.10 64-bit",
   "language": "python",
   "name": "python3"
  },
  "language_info": {
   "codemirror_mode": {
    "name": "ipython",
    "version": 3
   },
   "file_extension": ".py",
   "mimetype": "text/x-python",
   "name": "python",
   "nbconvert_exporter": "python",
   "pygments_lexer": "ipython3",
   "version": "3.9.12"
  },
  "orig_nbformat": 4
 },
 "nbformat": 4,
 "nbformat_minor": 2
}

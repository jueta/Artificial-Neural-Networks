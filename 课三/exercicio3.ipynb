{
 "cells": [
  {
   "cell_type": "markdown",
   "metadata": {},
   "source": [
    "# Redes Neurais Artificiais\n",
    " **Nome: João Pedro Miranda Marques**\n",
    " \n",
    " **Matrícula: 2017050495** "
   ]
  },
  {
   "cell_type": "markdown",
   "metadata": {},
   "source": [
    "## Exercicio 3 - Adaline"
   ]
  },
  {
   "cell_type": "code",
   "execution_count": 3,
   "metadata": {},
   "outputs": [],
   "source": [
    "import matplotlib.pyplot as plt\n",
    "import numpy as np\n",
    "import pandas as pd\n",
    "import random as rd"
   ]
  },
  {
   "cell_type": "markdown",
   "metadata": {},
   "source": [
    "### Treinamento Adaline"
   ]
  },
  {
   "cell_type": "code",
   "execution_count": 9,
   "metadata": {},
   "outputs": [],
   "source": [
    "\n",
    "# w(t + 1) = w(t) + η ei xi\n",
    "def trainAdaline(xin, yd, eta, tol, maxepocas, par):\n",
    "# xin : matriz Nxn com os dados de entrada\n",
    "# yd: r ́otulos de saída (0 ou 1)\n",
    "# eta : passo de treinamento\n",
    "# tol : tolerˆancia de erro\n",
    "# maxepocas: nu ́mero ma ́ximo de itera ̧co ̃es par : parˆametro de entrada .\n",
    "# # par=0 ==> xin tem dimens ̃ao n+1 e j ́a inclui\n",
    "# # entrada correspondente ao termo\n",
    "# # de polarizac ̧ ̃ao.\n",
    "# # par=1 ==> xin tem dimens ̃ao n e na ̃o inclui\n",
    "\n",
    "\n",
    "    nSamples = len(xin)       # Numero de amostras.\n",
    "    nDimension = 1 #len(xin[0])      # Dimensao de entrada.\n",
    "\n",
    "    xin = pd.DataFrame(xin.reshape(nSamples,nDimension))\n",
    "    yd = pd.DataFrame(yd.reshape(nSamples,nDimension))\n",
    "\n",
    "    # Adiciona ou não um termo de polarização ao vetor de treinamento w.\n",
    "    if par == 1:\n",
    "        wt = pd.DataFrame(np.random.sample(nDimension+1) - 0.5)\n",
    "        xin.insert(nDimension, nDimension, 1)\n",
    "    else:\n",
    "        wt = pd.DataFrame(np.random.sample(nDimension) - 0.5)\n",
    "\n",
    "    nepocas = 0 # Contador de epocas\n",
    "    eepoca = tol + 1 # Acumulador de erro de epocas\n",
    "\n",
    "    evec = [maxepocas] # Vetor de erros\n",
    "\n",
    "    # Laço principal de treinamento\n",
    "    while (nepocas < maxepocas) & (eepoca > tol):\n",
    "        ei2 = 0\n",
    "        #Sequencia aleatória de treinamento\n",
    "        xseq = np.random.randint(0, nSamples, nSamples)\n",
    "\n",
    "        for i in range(nSamples):\n",
    "            # Amostra dado da sequencia aleatória\n",
    "            irand = xseq[i]\n",
    "            # Calcula saída do Adaline\n",
    "            yhati = 1.0 * np.dot(wt.T, pd.DataFrame(xin.loc[irand])) # yhati = xin[i] X wt.T\n",
    "            yhati = pd.DataFrame(yhati)\n",
    "            print(\"yhati: \\n\", yhati)\n",
    "            print(\"yd.loc[irand]: \\n\", yd.loc[irand])\n",
    "            ei = yd.loc[irand] - yhati # erro: ei = (yi − yˆi)\n",
    "            print(\"ei: \\n\", ei)\n",
    "            dw = eta * (ei * xin)\n",
    "            # print(\"dw: \\n\", dw)\n",
    "            # Ajusta vetor de pesos\n",
    "            print(\"wt antes: \\n\", wt)\n",
    "            wt = wt + dw\n",
    "            print(\"wt depois: \\n\", wt)\n",
    "            # Acumula erro por época\n",
    "            ei2 = ei**2 + ei2\n",
    "\n",
    "        # Incrementa número de épocas\n",
    "        nepocas = nepocas + 1\n",
    "        evec[nepocas] = ei2/nSamples\n",
    "        # Armazena erro por época\n",
    "        eepoca = evec[nepocas]\n",
    "\n",
    "    # Retorna vetores de pesos e de erros\n",
    "    retlist = [wt, evec[1:nepocas]]\n",
    "\n",
    "    return retlist\n",
    "    "
   ]
  },
  {
   "cell_type": "markdown",
   "metadata": {},
   "source": [
    "### Estudo Slides"
   ]
  },
  {
   "cell_type": "markdown",
   "metadata": {},
   "source": [
    "Suponha que a fun ̧c ̃ao f(x) represente um processo industrial que aumenta em 4 vezes a magnitude de qualquer sinal em sua entrada e adiciona duas unidades ao valor obtido.\n",
    "\n",
    "f(x) = 4x + 2"
   ]
  },
  {
   "cell_type": "code",
   "execution_count": 10,
   "metadata": {},
   "outputs": [
    {
     "name": "stdout",
     "output_type": "stream",
     "text": [
      "yhati: \n",
      "           0\n",
      "0  0.098483\n",
      "yd.loc[irand]: \n",
      " 0   -0.351141\n",
      "Name: 12, dtype: float64\n",
      "ei: \n",
      "           0\n",
      "0 -0.449624\n",
      "wt antes: \n",
      "           0\n",
      "0  0.294184\n",
      "1  0.271399\n",
      "wt depois: \n",
      "            0   1\n",
      "0   0.294184 NaN\n",
      "1        NaN NaN\n",
      "2        NaN NaN\n",
      "3        NaN NaN\n",
      "4        NaN NaN\n",
      "5        NaN NaN\n",
      "6        NaN NaN\n",
      "7        NaN NaN\n",
      "8        NaN NaN\n",
      "9        NaN NaN\n",
      "10       NaN NaN\n",
      "11       NaN NaN\n",
      "12       NaN NaN\n",
      "13       NaN NaN\n",
      "14       NaN NaN\n",
      "15       NaN NaN\n",
      "16       NaN NaN\n",
      "17       NaN NaN\n",
      "18       NaN NaN\n",
      "19       NaN NaN\n"
     ]
    },
    {
     "ename": "ValueError",
     "evalue": "shapes (2,20) and (2,1) not aligned: 20 (dim 1) != 2 (dim 0)",
     "output_type": "error",
     "traceback": [
      "\u001b[0;31m---------------------------------------------------------------------------\u001b[0m",
      "\u001b[0;31mValueError\u001b[0m                                Traceback (most recent call last)",
      "\u001b[1;32m/Users/jota/Desktop/RNA/Artificial Neural Networks/课三/exercicio3.ipynb Cell 8'\u001b[0m in \u001b[0;36m<cell line: 9>\u001b[0;34m()\u001b[0m\n\u001b[1;32m      <a href='vscode-notebook-cell:/Users/jota/Desktop/RNA/Artificial%20Neural%20Networks/%E8%AF%BE%E4%B8%89/exercicio3.ipynb#ch0000007?line=2'>3</a>\u001b[0m y \u001b[39m=\u001b[39m \u001b[39m4\u001b[39m\u001b[39m*\u001b[39mx \u001b[39m+\u001b[39m \u001b[39m2\u001b[39m\n\u001b[1;32m      <a href='vscode-notebook-cell:/Users/jota/Desktop/RNA/Artificial%20Neural%20Networks/%E8%AF%BE%E4%B8%89/exercicio3.ipynb#ch0000007?line=4'>5</a>\u001b[0m \u001b[39m# x = pd.DataFrame(x.reshape(20,1))\u001b[39;00m\n\u001b[1;32m      <a href='vscode-notebook-cell:/Users/jota/Desktop/RNA/Artificial%20Neural%20Networks/%E8%AF%BE%E4%B8%89/exercicio3.ipynb#ch0000007?line=5'>6</a>\u001b[0m \u001b[39m# print(x)\u001b[39;00m\n\u001b[1;32m      <a href='vscode-notebook-cell:/Users/jota/Desktop/RNA/Artificial%20Neural%20Networks/%E8%AF%BE%E4%B8%89/exercicio3.ipynb#ch0000007?line=6'>7</a>\u001b[0m \u001b[39m# print(x[5])\u001b[39;00m\n\u001b[0;32m----> <a href='vscode-notebook-cell:/Users/jota/Desktop/RNA/Artificial%20Neural%20Networks/%E8%AF%BE%E4%B8%89/exercicio3.ipynb#ch0000007?line=8'>9</a>\u001b[0m retlist \u001b[39m=\u001b[39m trainAdaline(x,y,\u001b[39m0.01\u001b[39;49m,\u001b[39m0.01\u001b[39;49m,\u001b[39m50\u001b[39;49m,\u001b[39m1\u001b[39;49m)\n",
      "\u001b[1;32m/Users/jota/Desktop/RNA/Artificial Neural Networks/课三/exercicio3.ipynb Cell 5'\u001b[0m in \u001b[0;36mtrainAdaline\u001b[0;34m(xin, yd, eta, tol, maxepocas, par)\u001b[0m\n\u001b[1;32m     <a href='vscode-notebook-cell:/Users/jota/Desktop/RNA/Artificial%20Neural%20Networks/%E8%AF%BE%E4%B8%89/exercicio3.ipynb#ch0000004?line=39'>40</a>\u001b[0m irand \u001b[39m=\u001b[39m xseq[i]\n\u001b[1;32m     <a href='vscode-notebook-cell:/Users/jota/Desktop/RNA/Artificial%20Neural%20Networks/%E8%AF%BE%E4%B8%89/exercicio3.ipynb#ch0000004?line=40'>41</a>\u001b[0m \u001b[39m# Calcula saída do Adaline\u001b[39;00m\n\u001b[0;32m---> <a href='vscode-notebook-cell:/Users/jota/Desktop/RNA/Artificial%20Neural%20Networks/%E8%AF%BE%E4%B8%89/exercicio3.ipynb#ch0000004?line=41'>42</a>\u001b[0m yhati \u001b[39m=\u001b[39m \u001b[39m1.0\u001b[39m \u001b[39m*\u001b[39m np\u001b[39m.\u001b[39;49mdot(wt\u001b[39m.\u001b[39;49mT, pd\u001b[39m.\u001b[39;49mDataFrame(xin\u001b[39m.\u001b[39;49mloc[irand])) \u001b[39m# yhati = xin[i] X wt.T\u001b[39;00m\n\u001b[1;32m     <a href='vscode-notebook-cell:/Users/jota/Desktop/RNA/Artificial%20Neural%20Networks/%E8%AF%BE%E4%B8%89/exercicio3.ipynb#ch0000004?line=42'>43</a>\u001b[0m yhati \u001b[39m=\u001b[39m pd\u001b[39m.\u001b[39mDataFrame(yhati)\n\u001b[1;32m     <a href='vscode-notebook-cell:/Users/jota/Desktop/RNA/Artificial%20Neural%20Networks/%E8%AF%BE%E4%B8%89/exercicio3.ipynb#ch0000004?line=43'>44</a>\u001b[0m \u001b[39mprint\u001b[39m(\u001b[39m\"\u001b[39m\u001b[39myhati: \u001b[39m\u001b[39m\\n\u001b[39;00m\u001b[39m\"\u001b[39m, yhati)\n",
      "File \u001b[0;32m<__array_function__ internals>:180\u001b[0m, in \u001b[0;36mdot\u001b[0;34m(*args, **kwargs)\u001b[0m\n",
      "\u001b[0;31mValueError\u001b[0m: shapes (2,20) and (2,1) not aligned: 20 (dim 1) != 2 (dim 0)"
     ]
    }
   ],
   "source": [
    "\n",
    "t = np.arange(0, 2*np.pi, 0.1*np.pi)\n",
    "x = np.sin(t)\n",
    "y = 4*x + 2\n",
    "\n",
    "# x = pd.DataFrame(x.reshape(20,1))\n",
    "# print(x)\n",
    "# print(x[5])\n",
    "\n",
    "retlist = trainAdaline(x,y,0.01,0.01,50,1)\n"
   ]
  }
 ],
 "metadata": {
  "interpreter": {
   "hash": "b0fa6594d8f4cbf19f97940f81e996739fb7646882a419484c72d19e05852a7e"
  },
  "kernelspec": {
   "display_name": "Python 3.9.10 64-bit",
   "language": "python",
   "name": "python3"
  },
  "language_info": {
   "codemirror_mode": {
    "name": "ipython",
    "version": 3
   },
   "file_extension": ".py",
   "mimetype": "text/x-python",
   "name": "python",
   "nbconvert_exporter": "python",
   "pygments_lexer": "ipython3",
   "version": "3.9.12"
  },
  "orig_nbformat": 4
 },
 "nbformat": 4,
 "nbformat_minor": 2
}

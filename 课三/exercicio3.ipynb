{
 "cells": [
  {
   "cell_type": "markdown",
   "metadata": {},
   "source": [
    "# Redes Neurais Artificiais\n",
    " **Nome: João Pedro Miranda Marques**\n",
    " \n",
    " **Matrícula: 2017050495** "
   ]
  },
  {
   "cell_type": "markdown",
   "metadata": {},
   "source": [
    "## Exercicio 3 - Adaline"
   ]
  },
  {
   "cell_type": "code",
   "execution_count": 3,
   "metadata": {},
   "outputs": [],
   "source": [
    "import matplotlib.pyplot as plt\n",
    "import numpy as np\n",
    "import pandas as pd\n",
    "import random as rd"
   ]
  },
  {
   "cell_type": "markdown",
   "metadata": {},
   "source": [
    "### Treinamento Adaline"
   ]
  },
  {
   "cell_type": "code",
   "execution_count": 124,
   "metadata": {},
   "outputs": [],
   "source": [
    "def trainAdaline(xin, yd, eta, tol, maxepocas, par):\n",
    "# xin : matriz Nxn com os dados de entrada\n",
    "# yd: rótulos de saída (0 ou 1)\n",
    "# eta : passo de treinamento\n",
    "# tol : tolerância de erro\n",
    "# maxepocas: número máximo de iterações par : parâmetro de entrada .\n",
    "# # par=0 ==> xin tem dimensão n+1 e já inclui\n",
    "# # entrada correspondente ao termo\n",
    "# # de polarização.\n",
    "# # par=1 ==> xin tem dimensão n e não inclui\n",
    "\n",
    "    xin = pd.DataFrame(xin)\n",
    "    yd = pd.DataFrame(yd)\n",
    "\n",
    "    nSamples = xin.shape[0]     # Numero de amostras.\n",
    "    nDimension = xin.shape[1]     # Dimensao de entrada.\n",
    "\n",
    "    # Adiciona ou não um termo de polarização ao vetor de treinamento w.\n",
    "    if par == 1:\n",
    "        wt = pd.DataFrame(np.random.sample(nDimension+1) - 0.5)\n",
    "        xin.insert(nDimension, nDimension, 1)\n",
    "    else:\n",
    "        wt = pd.DataFrame(np.random.sample(nDimension) - 0.5)\n",
    "\n",
    "    nepocas = 0 # Contador de epocas\n",
    "    eepoca = tol + 1 # Acumulador de erro de epocas\n",
    "\n",
    "    evec = [maxepocas] # Vetor de erros\n",
    "\n",
    "    # Laço principal de treinamento\n",
    "    while (nepocas < maxepocas) & (eepoca > tol):\n",
    "        ei2 = 0\n",
    "        #Sequencia aleatória de treinamento\n",
    "        xseq = np.random.randint(0, nSamples, nSamples)\n",
    "\n",
    "        for i in range(nSamples):\n",
    "\n",
    "            # Amostra dado da sequencia aleatória\n",
    "            irand = xseq[i]\n",
    "\n",
    "            # Calcula saída do Adaline\n",
    "            yhati = 1.0 * np.dot(wt.T, pd.DataFrame(xin.loc[irand])) # yhati = xin[i] X wt.T\n",
    "            yhati = pd.DataFrame(yhati)\n",
    "\n",
    "            # Calcula erro\n",
    "            ei = yd.loc[irand] - yhati        # erro: ei = (yi − yˆi)\n",
    "            ei = pd.to_numeric(ei[0][0])\n",
    "\n",
    "            # Calcula variaçao no peso\n",
    "            dw = eta * (ei * xin.loc[irand])  # dw = η ei xis\n",
    "            dw = pd.DataFrame(dw).to_numpy()\n",
    "\n",
    "            # Ajusta vetor de pesos\n",
    "            wt = pd.DataFrame(wt).to_numpy()\n",
    "            wt = wt + dw                     # w(t+1) = w(t) + dw(t) \n",
    "            \n",
    "            # Acumula erro por época\n",
    "            ei2 += ei**2 \n",
    "\n",
    "        # Incrementa número de épocas\n",
    "        nepocas = nepocas + 1\n",
    "        evec.append(ei2/nSamples)\n",
    "\n",
    "        # Armazena erro por época\n",
    "        eepoca = evec[nepocas]\n",
    "\n",
    "    # Retorna vetores de pesos e de erros\n",
    "    retlist = [wt, evec[1:nepocas]]\n",
    "\n",
    "    return retlist\n",
    "    "
   ]
  },
  {
   "cell_type": "markdown",
   "metadata": {},
   "source": [
    "### Estudo Slides"
   ]
  },
  {
   "cell_type": "markdown",
   "metadata": {},
   "source": [
    "Suponha que a fun ̧c ̃ao f(x) represente um processo industrial que aumenta em 4 vezes a magnitude de qualquer sinal em sua entrada e adiciona duas unidades ao valor obtido.\n",
    "\n",
    "f(x) = 4x + 2"
   ]
  },
  {
   "cell_type": "code",
   "execution_count": 209,
   "metadata": {},
   "outputs": [
    {
     "name": "stdout",
     "output_type": "stream",
     "text": [
      "w:  [[3.87295428]\n",
      " [1.99518865]]\n"
     ]
    },
    {
     "data": {
      "image/png": "[encoded data removed]",
      "text/plain": [
       "<Figure size 432x288 with 1 Axes>"
      ]
     },
     "metadata": {
      "needs_background": "light"
     },
     "output_type": "display_data"
    }
   ],
   "source": [
    "t = np.arange(0, 2*np.pi, 0.1*np.pi)\n",
    "x = np.sin(t)\n",
    "y = 4*x + 2\n",
    "\n",
    "retlist = trainAdaline(x,y,0.01,0.01,50,1)\n",
    "w = retlist[0]\n",
    "erro = retlist[1]\n",
    "\n",
    "plt.plot(erro)\n",
    "print(\"w: \", w)\n"
   ]
  },
  {
   "cell_type": "markdown",
   "metadata": {},
   "source": [
    "### Problema multivariado\n",
    "\n",
    "f(x4,x3,x2,x1) = a4x4 + a3x3 + a2x2 + a1x1 + a0x0\n",
    "\n",
    "y = 3.2x4 + 0.8x3 + 2x2 + x1 + pi\n"
   ]
  },
  {
   "cell_type": "code",
   "execution_count": 218,
   "metadata": {},
   "outputs": [
    {
     "name": "stdout",
     "output_type": "stream",
     "text": [
      "w:  [[0.97214673]\n",
      " [1.83412069]\n",
      " [0.79084329]\n",
      " [2.53354701]\n",
      " [2.13848403]]\n"
     ]
    },
    {
     "data": {
      "image/png": "[encoded data removed]",
      "text/plain": [
       "<Figure size 432x288 with 1 Axes>"
      ]
     },
     "metadata": {
      "needs_background": "light"
     },
     "output_type": "display_data"
    }
   ],
   "source": [
    "t = np.arange(0, 2*np.pi, 0.1*np.pi)\n",
    "\n",
    "x1 = pd.Series(np.sin(t)+np.cos(t))\n",
    "x2 = pd.Series(np.tanh(t))\n",
    "x3 = pd.Series(np.sin(4*t))\n",
    "x4 = pd.Series(abs(np.sin(t)))\n",
    "\n",
    "x = pd.concat([x1,x2,x3,x4], axis=1)\n",
    "y = x1 + 2*x2 + 0.8*x3 + 3.2*x4 + np.pi/2\n",
    "\n",
    "retlist = trainAdaline(x,y,0.01,0.01,50,1)\n",
    "\n",
    "w = retlist[0]\n",
    "erro = retlist[1]\n",
    "\n",
    "plt.plot(erro)\n",
    "print(\"w: \", w)"
   ]
  },
  {
   "cell_type": "code",
   "execution_count": 235,
   "metadata": {},
   "outputs": [
    {
     "data": {
      "image/png": "[encoded data removed]",
      "text/plain": [
       "<Figure size 432x288 with 1 Axes>"
      ]
     },
     "metadata": {
      "needs_background": "light"
     },
     "output_type": "display_data"
    }
   ],
   "source": [
    "ttest = np.arange(0, 2*np.pi, 0.1*np.pi)\n",
    "x0t = pd.Series(1)\n",
    "x1t = pd.Series(np.sin(ttest)+np.cos(ttest))\n",
    "x2t = pd.Series(np.tanh(ttest))\n",
    "x3t = pd.Series(np.sin(4*ttest))\n",
    "x4t = pd.Series(abs(np.sin(ttest)))\n",
    "\n",
    "xt = pd.concat([x0t,x1t,x2t,x3t,x4t], axis=1)\n",
    "\n",
    "yt =  np.dot(xt, w)\n",
    "yreal = 3.2*x4t + 0.8*x3t + 2*x2t + x1t + np.pi/2\n",
    "\n",
    "# plt.scatter(t, yreal)\n",
    "plt.plot(range(1, len(yreal) + 1), yreal, marker = 'o', color = 'red')\n",
    "plt.plot(range(1, len(y) + 1), y)\n",
    "\n",
    "# Plot the training error\n",
    "# plt.plot(range(1, len(erro) + 1), erro, marker = 'o', color = 'red')\n",
    "# plt.xlabel('Epochs')\n",
    "# plt.ylabel('Sum-squared-error')\n",
    "# plt.show()\n",
    "\n",
    "# # Plot the decision boundary\n",
    "# pdr.plot_decision_regions(X_std, y, classifier = model1)\n",
    "# plt.title('Adaline - Gradient Descent')\n",
    "# plt.xlabel('sepal length [standardized')\n",
    "# plt.ylabel('petal length [standardized]')\n",
    "# plt.legend(loc = 'upper left')\n",
    "plt.show()"
   ]
  },
  {
   "cell_type": "markdown",
   "metadata": {},
   "source": [
    "### Exemplo com dados reais\n"
   ]
  },
  {
   "cell_type": "code",
   "execution_count": 8,
   "metadata": {},
   "outputs": [],
   "source": [
    "import pandas as pd\n",
    "import numpy as np\n",
    "\n",
    "data_url = \"http://lib.stat.cmu.edu/datasets/boston\"\n",
    "raw_df = pd.read_csv(data_url, sep=\"\\s+\", skiprows=22, header=None)\n",
    "data = np.hstack([raw_df.values[::2, :], raw_df.values[1::2, :2]])\n",
    "target = raw_df.values[1::2, 2]\n"
   ]
  },
  {
   "cell_type": "markdown",
   "metadata": {},
   "source": [
    "## Exercicio 3 - Adaline"
   ]
  },
  {
   "cell_type": "markdown",
   "metadata": {},
   "source": [
    "### Exercicio 3.1 - Modelo Univariado"
   ]
  },
  {
   "cell_type": "code",
   "execution_count": 183,
   "metadata": {},
   "outputs": [
    {
     "data": {
      "image/png": "[encoded data removed]",
      "text/plain": [
       "<Figure size 432x288 with 1 Axes>"
      ]
     },
     "metadata": {
      "needs_background": "light"
     },
     "output_type": "display_data"
    }
   ],
   "source": [
    "# Importando dados\n",
    "Ex1_t = pd.read_table(\"dados/Ex1_t\") # tempos de amostragem dos sinais\n",
    "Ex1_x = pd.read_table(\"dados/Ex1_x\") # Sinal de Entrada\n",
    "Ex1_y = pd.read_table(\"dados/Ex1_y\") # Sinal de saida\n",
    "\n",
    "Ex1_t =Ex1_t.to_numpy()\n",
    "Ex1_x =Ex1_x.to_numpy()\n",
    "Ex1_y =Ex1_y.to_numpy()\n",
    "\n",
    "testData = []\n",
    "test_x = []\n",
    "test_y = []\n",
    "test_t = []\n",
    "trainData = []\n",
    "train_x = []\n",
    "train_y = []\n",
    "train_t = []\n",
    "\n",
    "for i in range(len(t)):\n",
    "    if(i == 4 or i ==  7 or i ==  11 or i ==  13 or i ==  14 or i ==  17):\n",
    "        testData.append([Ex1_t[i], Ex1_x[i]])\n",
    "        test_t.append(Ex1_t[i])\n",
    "        test_x.append(Ex1_x[i])\n",
    "        test_y.append(Ex1_y[i])\n",
    "    else:\n",
    "        trainData.append([Ex1_t[i], Ex1_x[i]])\n",
    "        train_t.append(Ex1_t[i])\n",
    "        train_x.append(Ex1_x[i])\n",
    "        train_y.append(Ex1_y[i])\n",
    "\n",
    "\n",
    "plt.plot(Ex1_t, Ex1_x, '--', color=\"cyan\", label='entrada')\n",
    "plt.plot(test_t, test_x, 'o', color=\"blue\", mfc='none')\n",
    "plt.plot(train_t, train_x, 'o', color=\"blue\")\n",
    "plt.plot(Ex1_t, Ex1_y, '--', color=\"red\", label='saida')\n",
    "plt.plot(test_t, test_y, 'o', color=\"red\", mfc='none')\n",
    "plt.plot(train_t, train_y, 'o', color=\"red\")\n",
    "plt.legend()\n",
    "plt.title(\"Amostras preenchidas para treinamento\")\n",
    "\n",
    "plt.show()\n",
    "\n"
   ]
  },
  {
   "cell_type": "code",
   "execution_count": 184,
   "metadata": {},
   "outputs": [
    {
     "name": "stdout",
     "output_type": "stream",
     "text": [
      "w:  [[0.15894712]\n",
      " [0.48077135]]\n"
     ]
    },
    {
     "data": {
      "image/png": "[encoded data removed]",
      "text/plain": [
       "<Figure size 432x288 with 1 Axes>"
      ]
     },
     "metadata": {
      "needs_background": "light"
     },
     "output_type": "display_data"
    }
   ],
   "source": [
    "retlist = trainAdaline(train_x,train_y,0.01,0.01,50,1)\n",
    "\n",
    "w = retlist[0]\n",
    "erro = retlist[1]\n",
    "\n",
    "plt.plot(erro)\n",
    "print(\"w: \", w)"
   ]
  },
  {
   "cell_type": "code",
   "execution_count": 185,
   "metadata": {},
   "outputs": [
    {
     "name": "stdout",
     "output_type": "stream",
     "text": [
      "\n",
      "x para teste: \n",
      "           0  1\n",
      "0  0.997495  1\n",
      "1  0.675463  1\n",
      "2 -0.442520  1\n",
      "3 -0.871576  1\n",
      "4 -0.977530  1\n",
      "5 -0.772764  1\n",
      "\n",
      "x para treinamento: \n",
      "            0  1\n",
      "0   0.295520  1\n",
      "1   0.564642  1\n",
      "2   0.783327  1\n",
      "3   0.932039  1\n",
      "4   0.973848  1\n",
      "5   0.863209  1\n",
      "6   0.427380  1\n",
      "7   0.141120  1\n",
      "8  -0.157746  1\n",
      "9  -0.687766  1\n",
      "10 -0.996165  1\n",
      "11 -0.925815  1\n",
      "12 -0.550686  1\n",
      "13 -0.279415  1\n",
      "\n",
      " yhat: \n",
      " [[0.63932031]\n",
      " [0.58813428]\n",
      " [0.41043399]\n",
      " [0.34223688]\n",
      " [0.32539575]\n",
      " [0.35794265]]\n",
      "\n",
      " yhattrain: \n",
      " [[0.52774343]\n",
      " [0.57051964]\n",
      " [0.60527891]\n",
      " [0.62891628]\n",
      " [0.63556163]\n",
      " [0.61797599]\n",
      " [0.54870215]\n",
      " [0.50320197]\n",
      " [0.45569812]\n",
      " [0.37145289]\n",
      " [0.32243385]\n",
      " [0.33361577]\n",
      " [0.39324146]\n",
      " [0.43635906]]\n"
     ]
    }
   ],
   "source": [
    "# teste\n",
    "\n",
    "test_x = pd.DataFrame(test_x)\n",
    "train_x = pd.DataFrame(train_x)\n",
    "\n",
    "# Adiciona coluna 1\n",
    "test_x.insert(len(test_x.columns), 1, 1)\n",
    "train_x.insert(len(train_x.columns), 1, 1)\n",
    "\n",
    "yhat = np.dot(test_x, w)\n",
    "yhattrain = np.dot(train_x, w)  # yhattrain<-(cbind(1,xtrain) %*% w)\n",
    "\n",
    "\n"
   ]
  },
  {
   "cell_type": "code",
   "execution_count": null,
   "metadata": {},
   "outputs": [],
   "source": []
  }
 ],
 "metadata": {
  "interpreter": {
   "hash": "b0fa6594d8f4cbf19f97940f81e996739fb7646882a419484c72d19e05852a7e"
  },
  "kernelspec": {
   "display_name": "Python 3.9.10 64-bit",
   "language": "python",
   "name": "python3"
  },
  "language_info": {
   "codemirror_mode": {
    "name": "ipython",
    "version": 3
   },
   "file_extension": ".py",
   "mimetype": "text/x-python",
   "name": "python",
   "nbconvert_exporter": "python",
   "pygments_lexer": "ipython3",
   "version": "3.9.12"
  },
  "orig_nbformat": 4
 },
 "nbformat": 4,
 "nbformat_minor": 2
}

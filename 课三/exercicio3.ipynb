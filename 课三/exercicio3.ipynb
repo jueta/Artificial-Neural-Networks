{
 "cells": [
  {
   "cell_type": "markdown",
   "metadata": {},
   "source": [
    "# Redes Neurais Artificiais\n",
    " **Nome: João Pedro Miranda Marques**\n",
    " \n",
    " **Matrícula: 2017050495** "
   ]
  },
  {
   "cell_type": "markdown",
   "metadata": {},
   "source": [
    "## Exercicio 3 - Adaline"
   ]
  },
  {
   "cell_type": "code",
   "execution_count": 3,
   "metadata": {},
   "outputs": [],
   "source": [
    "import matplotlib.pyplot as plt\n",
    "import numpy as np\n",
    "import pandas as pd\n",
    "import random as rd"
   ]
  },
  {
   "cell_type": "markdown",
   "metadata": {},
   "source": [
    "### Treinamento Adaline"
   ]
  },
  {
   "cell_type": "code",
   "execution_count": 206,
   "metadata": {},
   "outputs": [],
   "source": [
    "def trainAdaline(xin, yd, eta, tol, maxepocas, par):\n",
    "# xin : matriz Nxn com os dados de entrada\n",
    "# yd: rótulos de saída (0 ou 1)\n",
    "# eta : passo de treinamento\n",
    "# tol : tolerância de erro\n",
    "# maxepocas: número máximo de iterações par : parâmetro de entrada .\n",
    "# # par=0 ==> xin tem dimensão n+1 e já inclui\n",
    "# # entrada correspondente ao termo\n",
    "# # de polarização.\n",
    "# # par=1 ==> xin tem dimensão n e não inclui\n",
    "\n",
    "    xin = pd.DataFrame(xin)\n",
    "    yd = pd.DataFrame(yd)\n",
    "\n",
    "    nSamples = xin.shape[0]     # Numero de amostras.\n",
    "    nDimension = xin.shape[1]     # Dimensao de entrada.\n",
    "\n",
    "    # Adiciona ou não um termo de polarização ao vetor de treinamento w.\n",
    "    if par == 1:\n",
    "        wt = pd.DataFrame(np.random.sample(nDimension+1) - 0.5)\n",
    "        xin.insert(nDimension, nDimension, 1)\n",
    "    else:\n",
    "        wt = pd.DataFrame(np.random.sample(nDimension) - 0.5)\n",
    "\n",
    "    nepocas = 0 # Contador de epocas\n",
    "    eepoca = tol + 1 # Acumulador de erro de epocas\n",
    "\n",
    "    evec = [maxepocas] # Vetor de erros\n",
    "\n",
    "    # Laço principal de treinamento\n",
    "    while (nepocas < maxepocas) & (eepoca > tol):\n",
    "        ei2 = 0\n",
    "        #Sequencia aleatória de treinamento\n",
    "        xseq = np.random.randint(0, nSamples, nSamples)\n",
    "\n",
    "        for i in range(nSamples):\n",
    "\n",
    "            # Amostra dado da sequencia aleatória\n",
    "            irand = xseq[i]\n",
    "\n",
    "            # Calcula saída do Adaline\n",
    "            yhati = 1.0 * np.dot(wt.T, pd.DataFrame(xin.loc[irand])) # yhati = xin[i] X wt.T\n",
    "            yhati = pd.DataFrame(yhati)\n",
    "\n",
    "            # Calcula erro\n",
    "            ei = yd.loc[irand] - yhati        # erro: ei = (yi − yˆi)\n",
    "            ei = pd.to_numeric(ei[0][0])\n",
    "\n",
    "            # Calcula variaçao no peso\n",
    "            dw = eta * (ei * xin.loc[irand])  # dw = η ei xis\n",
    "            dw = pd.DataFrame(dw).to_numpy()\n",
    "\n",
    "            # Ajusta vetor de pesos\n",
    "            wt = pd.DataFrame(wt).to_numpy()\n",
    "            wt = wt + dw                     # w(t+1) = w(t) + dw(t) \n",
    "            \n",
    "            # Acumula erro por época\n",
    "            ei2 += ei**2 \n",
    "\n",
    "        # Incrementa número de épocas\n",
    "        nepocas = nepocas + 1\n",
    "        evec.append(ei2/nSamples)\n",
    "\n",
    "        # Armazena erro por época\n",
    "        eepoca = evec[nepocas]\n",
    "\n",
    "    # Retorna vetores de pesos e de erros\n",
    "    retlist = [wt, evec[1:nepocas]]\n",
    "\n",
    "    return retlist\n",
    "    "
   ]
  },
  {
   "cell_type": "markdown",
   "metadata": {},
   "source": [
    "### Estudo Slides"
   ]
  },
  {
   "cell_type": "markdown",
   "metadata": {},
   "source": [
    "Suponha que a fun ̧c ̃ao f(x) represente um processo industrial que aumenta em 4 vezes a magnitude de qualquer sinal em sua entrada e adiciona duas unidades ao valor obtido.\n",
    "\n",
    "f(x) = 4x + 2"
   ]
  },
  {
   "cell_type": "code",
   "execution_count": 209,
   "metadata": {},
   "outputs": [
    {
     "name": "stdout",
     "output_type": "stream",
     "text": [
      "w:  [[3.87295428]\n",
      " [1.99518865]]\n"
     ]
    },
    {
     "data": {
      "image/png": "[encoded data removed]",
      "text/plain": [
       "<Figure size 432x288 with 1 Axes>"
      ]
     },
     "metadata": {
      "needs_background": "light"
     },
     "output_type": "display_data"
    }
   ],
   "source": [
    "t = np.arange(0, 2*np.pi, 0.1*np.pi)\n",
    "x = np.sin(t)\n",
    "y = 4*x + 2\n",
    "\n",
    "retlist = trainAdaline(x,y,0.01,0.01,50,1)\n",
    "w = retlist[0]\n",
    "erro = retlist[1]\n",
    "\n",
    "plt.plot(erro)\n",
    "print(\"w: \", w)\n"
   ]
  },
  {
   "cell_type": "markdown",
   "metadata": {},
   "source": [
    "### Problema multivariado\n",
    "\n",
    "f(x4,x3,x2,x1) = a4x4 + a3x3 + a2x2 + a1x1 + a0x0\n",
    "\n",
    "y = 3.2x4 + 0.8x3 + 2x2 + x1 + pi\n"
   ]
  },
  {
   "cell_type": "code",
   "execution_count": 208,
   "metadata": {},
   "outputs": [
    {
     "name": "stdout",
     "output_type": "stream",
     "text": [
      "w:  [[1.01577848]\n",
      " [2.1843365 ]\n",
      " [0.83094734]\n",
      " [2.29236109]\n",
      " [2.02149437]]\n"
     ]
    },
    {
     "data": {
      "image/png": "[encoded data removed]",
      "text/plain": [
       "<Figure size 432x288 with 1 Axes>"
      ]
     },
     "metadata": {
      "needs_background": "light"
     },
     "output_type": "display_data"
    }
   ],
   "source": [
    "t = np.arange(0, 2*np.pi, 0.1*np.pi)\n",
    "\n",
    "x1 = pd.Series(np.sin(t)+np.cos(t))\n",
    "x2 = pd.Series(np.tanh(t))\n",
    "x3 = pd.Series(np.sin(4*t))\n",
    "x4 = pd.Series(abs(np.sin(t)))\n",
    "\n",
    "x = pd.concat([x1,x2,x3,x4], axis=1)\n",
    "y = x1 + 2*x2 + 0.8*x3 + 3.2*x4 + np.pi/2\n",
    "\n",
    "retlist = trainAdaline(x,y,0.01,0.01,50,1)\n",
    "\n",
    "w = retlist[0]\n",
    "erro = retlist[1]\n",
    "\n",
    "plt.plot(erro)\n",
    "print(\"w: \", w)\n"
   ]
  }
 ],
 "metadata": {
  "interpreter": {
   "hash": "b0fa6594d8f4cbf19f97940f81e996739fb7646882a419484c72d19e05852a7e"
  },
  "kernelspec": {
   "display_name": "Python 3.9.10 64-bit",
   "language": "python",
   "name": "python3"
  },
  "language_info": {
   "codemirror_mode": {
    "name": "ipython",
    "version": 3
   },
   "file_extension": ".py",
   "mimetype": "text/x-python",
   "name": "python",
   "nbconvert_exporter": "python",
   "pygments_lexer": "ipython3",
   "version": "3.9.12"
  },
  "orig_nbformat": 4
 },
 "nbformat": 4,
 "nbformat_minor": 2
}

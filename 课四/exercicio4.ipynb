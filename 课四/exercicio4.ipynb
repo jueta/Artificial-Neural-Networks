{
 "cells": [
  {
   "cell_type": "markdown",
   "metadata": {},
   "source": [
    "# Redes Neurais Artificiais\n",
    " **Nome: João Pedro Miranda Marques**\n",
    " \n",
    " **Matrícula: 2017050495** "
   ]
  },
  {
   "cell_type": "markdown",
   "metadata": {},
   "source": [
    "# Perceptron Simples"
   ]
  },
  {
   "cell_type": "code",
   "execution_count": 1,
   "metadata": {},
   "outputs": [],
   "source": [
    "import matplotlib.pyplot as plt\n",
    "import numpy as np\n",
    "import pandas as pd\n",
    "import random as rd"
   ]
  },
  {
   "cell_type": "markdown",
   "metadata": {},
   "source": [
    "## Exercício 3 - Perceptron Simples"
   ]
  },
  {
   "cell_type": "markdown",
   "metadata": {},
   "source": [
    "## Treinamento Perceptron"
   ]
  },
  {
   "cell_type": "code",
   "execution_count": 2,
   "metadata": {},
   "outputs": [],
   "source": [
    "def trainPerceptron(xin, yd, eta, tol, maxepocas, par):\n",
    "# xin : matriz Nxn com os dados de entrada\n",
    "# yd: rótulos de saída (0 ou 1)\n",
    "# eta : passo de treinamento\n",
    "# tol : tolerância de erro\n",
    "# maxepocas: número máximo de iterações par : parâmetro de entrada .\n",
    "# # par=0 ==> xin tem dimensão n+1 e já inclui\n",
    "# # entrada correspondente ao termo\n",
    "# # de polarização.\n",
    "# # par=1 ==> xin tem dimensão n e não inclui\n",
    "\n",
    "    xin = pd.DataFrame(xin)\n",
    "    yd = pd.DataFrame(yd)\n",
    "\n",
    "    nSamples = xin.shape[0]     # Numero de amostras.\n",
    "    nDimension = xin.shape[1]     # Dimensao de entrada.\n",
    "\n",
    "    # Adiciona ou não um termo de polarização ao vetor de treinamento w.\n",
    "    if par == 1:\n",
    "        wt = pd.DataFrame(np.random.sample(nDimension+1) - 0.5)\n",
    "        xin.insert(nDimension, nDimension, 1)\n",
    "    else:\n",
    "        wt = pd.DataFrame(np.random.sample(nDimension) - 0.5)\n",
    "\n",
    "    nepocas = 0 # Contador de epocas\n",
    "    eepoca = tol + 1 # Acumulador de erro de epocas\n",
    "\n",
    "    evec = [maxepocas] # Vetor de erros\n",
    "\n",
    "    # Laço principal de treinamento\n",
    "    while (nepocas < maxepocas) & (eepoca > tol):\n",
    "        ei2 = 0\n",
    "        #Sequencia aleatória de treinamento\n",
    "        xseq = np.random.randint(0, nSamples, nSamples)\n",
    "\n",
    "        for i in range(nSamples):\n",
    "\n",
    "            # Amostra dado da sequencia aleatória\n",
    "            irand = xseq[i]\n",
    "\n",
    "            # Calcula saída do Adaline\n",
    "            yhati = 1.0 * (np.dot(wt.T, pd.DataFrame(xin.iloc[irand])) >=0)# yhati = xin[i] X wt.T\n",
    "            yhati = pd.DataFrame(yhati)\n",
    "\n",
    "            # Calcula erro\n",
    "            ei = yd.iloc[irand] - yhati        # erro: ei = (yi − yˆi)\n",
    "            ei = pd.to_numeric(ei[0][0])\n",
    "\n",
    "            # Calcula variaçao no peso\n",
    "            dw = eta * (ei * xin.iloc[irand])  # dw = η ei xis\n",
    "            dw = pd.DataFrame(dw).to_numpy()\n",
    "\n",
    "            # Ajusta vetor de pesos\n",
    "            wt = pd.DataFrame(wt).to_numpy()\n",
    "            wt = wt + dw                     # w(t+1) = w(t) + dw(t) \n",
    "            \n",
    "            # Acumula erro por época\n",
    "            ei2 += ei**2 \n",
    "\n",
    "        # Incrementa número de épocas\n",
    "        nepocas = nepocas + 1\n",
    "        evec.append(ei2/nSamples)\n",
    "\n",
    "        # Armazena erro por época\n",
    "        eepoca = evec[nepocas]\n",
    "\n",
    "    # Retorna vetores de pesos e de erros\n",
    "    retlist = [wt, evec[1:nepocas]]\n",
    "\n",
    "    return retlist"
   ]
  },
  {
   "cell_type": "markdown",
   "metadata": {},
   "source": []
  }
 ],
 "metadata": {
  "interpreter": {
   "hash": "b0fa6594d8f4cbf19f97940f81e996739fb7646882a419484c72d19e05852a7e"
  },
  "kernelspec": {
   "display_name": "Python 3.9.10 64-bit",
   "language": "python",
   "name": "python3"
  },
  "language_info": {
   "codemirror_mode": {
    "name": "ipython",
    "version": 3
   },
   "file_extension": ".py",
   "mimetype": "text/x-python",
   "name": "python",
   "nbconvert_exporter": "python",
   "pygments_lexer": "ipython3",
   "version": "3.9.12"
  },
  "orig_nbformat": 4
 },
 "nbformat": 4,
 "nbformat_minor": 2
}

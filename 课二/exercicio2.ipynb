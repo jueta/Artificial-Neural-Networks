{
 "cells": [
  {
   "cell_type": "markdown",
   "metadata": {},
   "source": [
    "# Redes Neurais Artificiais\n",
    " **Nome: João Pedro Miranda Marques**\n",
    " \n",
    " **Matrícula: 2017050495** "
   ]
  },
  {
   "cell_type": "markdown",
   "metadata": {},
   "source": [
    "## Exercicio 2.1 - Problema Não Linearmente separável"
   ]
  },
  {
   "cell_type": "markdown",
   "metadata": {},
   "source": [
    "## Exercicio 2.2 - Overfitting e Underfitting"
   ]
  },
  {
   "cell_type": "markdown",
   "metadata": {},
   "source": [
    "## Exercicio 2.3 - Aproximação polinomial em camadas"
   ]
  },
  {
   "cell_type": "markdown",
   "metadata": {},
   "source": [
    "Inicialmente iremos gerar os dados de treinamento. A partir da função geradora 𝑓𝑔(𝑥) = 12𝑥ˆ2 + 3𝑥 + 10.\n",
    "O vetor X contem amostras da função geradora amostrado de uma distribuição Normal com média 0 e desvio padrão unitário."
   ]
  },
  {
   "cell_type": "code",
   "execution_count": 10,
   "metadata": {},
   "outputs": [
    {
     "data": {
      "image/png": "[encoded data removed]",
      "text/plain": [
       "<Figure size 432x288 with 1 Axes>"
      ]
     },
     "metadata": {
      "needs_background": "light"
     },
     "output_type": "display_data"
    }
   ],
   "source": [
    "import matplotlib.pyplot as plt\n",
    "import numpy as np\n",
    "import pandas as pd\n",
    "\n",
    "X = np.linspace(-15,10,10)\n",
    "\n",
    "def fgx(X):\n",
    "    return 0.5*X**2 + 3*X + 10\n",
    "\n",
    "mu, sigma = 0, 4\n",
    "Y = fgx(X) + 10 * np.random.normal(mu, sigma, len(X)) # Y<-fgx(X) + 10*rnorm(length(X))\n",
    "\n",
    "#print da função\n",
    "plt.scatter(X,Y)\n",
    "plt.show()"
   ]
  },
  {
   "cell_type": "markdown",
   "metadata": {},
   "source": [
    "Criação da Matriz H e  obtenção dos pesos w correspondentes a solução final dos coeficientes do polinômio aproximador."
   ]
  },
  {
   "cell_type": "code",
   "execution_count": 11,
   "metadata": {},
   "outputs": [
    {
     "name": "stdout",
     "output_type": "stream",
     "text": [
      "w:  [0.56992369 2.83585106 7.05672025]\n"
     ]
    }
   ],
   "source": [
    "# O nuúmero de parâmetros de um neurônio tipo MCP será sempre n + 1, onde n  é o número de variáveis, ou dimensão, do espaço de entrada.\n",
    "H = pd.DataFrame({'x2': X**2, 'x': X, '1': 1}) # > H<-cbind(X^2,X,1)\n",
    "# print(H)\n",
    "\n",
    "# Como y = H * w, podemos encontrar w pela multiplicação da pseudoinversa de H e y.\n",
    "w = np.dot(pd.DataFrame(np.linalg.pinv(H.values), H.columns, H.index), Y) # w<-pseudoinverse(H) %*% Y\n",
    "print('w: ', w)\n"
   ]
  },
  {
   "cell_type": "markdown",
   "metadata": {},
   "source": [
    "Podemos mensurar a qualidade dos pesos adiquiridos comparando com os pesos da equação geradora:  0.5 , 3 , 10"
   ]
  },
  {
   "cell_type": "markdown",
   "metadata": {},
   "source": [
    "Vamos utilizar o modelo gerado para estimar novos valores da função geradora."
   ]
  },
  {
   "cell_type": "code",
   "execution_count": 12,
   "metadata": {},
   "outputs": [],
   "source": [
    "# Novos valores a serem utilizados\n",
    "xgrid = np.arange(-15,10,0.1)\n",
    "ygrid = fgx(xgrid)\n",
    "# print('xgrid: ', xgrid,'ygrid: ',  ygrid)\n",
    "\n",
    "# Gerar uma nova Matriz Hgrid para as entradas de teste xgrid\n",
    "Hgrid = pd.DataFrame({'x2': xgrid**2, 'x': xgrid, '1': 1})\n",
    "# print('Hgrid: ', Hgrid)\n",
    "\n",
    "# Verificar a saída yhatgrid gerada a partir da multiplicação matricial de Hgrid com os valores w pesos encontrados\n",
    "yhatgrid = np.dot(Hgrid, w) # > yhatgrid<-Hgrid %*% w\n",
    "# print('yhatgrid: ', yhatgrid)"
   ]
  },
  {
   "cell_type": "markdown",
   "metadata": {},
   "source": [
    "Plot dos valores iniciais a serem testados em pontos azuis.\n",
    "\n",
    "Plot da função geradora em linha azul.\n",
    "\n",
    "Plot da função aproximada em linha vermelha."
   ]
  },
  {
   "cell_type": "code",
   "execution_count": 13,
   "metadata": {},
   "outputs": [
    {
     "data": {
      "image/png": "[encoded data removed]",
      "text/plain": [
       "<Figure size 432x288 with 1 Axes>"
      ]
     },
     "metadata": {
      "needs_background": "light"
     },
     "output_type": "display_data"
    }
   ],
   "source": [
    "#print da função\n",
    "plt.scatter(X,Y) # dados gerados\n",
    "plt.plot(xgrid, yhatgrid, 'r') # função aproximada\n",
    "plt.plot(X,fgx(X)) #função geradora\n",
    "plt.show()"
   ]
  }
 ],
 "metadata": {
  "interpreter": {
   "hash": "b0fa6594d8f4cbf19f97940f81e996739fb7646882a419484c72d19e05852a7e"
  },
  "kernelspec": {
   "display_name": "Python 3.9.10 64-bit",
   "language": "python",
   "name": "python3"
  },
  "language_info": {
   "codemirror_mode": {
    "name": "ipython",
    "version": 3
   },
   "file_extension": ".py",
   "mimetype": "text/x-python",
   "name": "python",
   "nbconvert_exporter": "python",
   "pygments_lexer": "ipython3",
   "version": "3.9.10"
  },
  "orig_nbformat": 4
 },
 "nbformat": 4,
 "nbformat_minor": 2
}

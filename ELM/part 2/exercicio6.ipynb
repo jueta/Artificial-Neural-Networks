{
 "cells": [
  {
   "cell_type": "markdown",
   "metadata": {},
   "source": [
    "# Redes Neurais Artificiais\n",
    " **Nome: João Pedro Miranda Marques**\n",
    " \n",
    " **Matrícula: 2017050495** "
   ]
  },
  {
   "cell_type": "markdown",
   "metadata": {},
   "source": [
    "# Extreme Learning Machine - ELM"
   ]
  },
  {
   "cell_type": "markdown",
   "metadata": {},
   "source": [
    "As imagens abaixo foram criadas utilizando o codigo em R dado pelo professor para as funcoes de trainELM e YELM. "
   ]
  },
  {
   "cell_type": "code",
   "execution_count": 1,
   "metadata": {},
   "outputs": [],
   "source": [
    "import matplotlib.pyplot as plt\n",
    "import numpy as np\n",
    "import pandas as pd"
   ]
  },
  {
   "cell_type": "markdown",
   "metadata": {},
   "source": [
    "Algoritmo de treinamento da Rede ELM traduzida de R para Python."
   ]
  },
  {
   "cell_type": "code",
   "execution_count": 2,
   "metadata": {},
   "outputs": [],
   "source": [
    "# Treinamento de uma rede ELM\n",
    "def trainELM(xin, yin, nNeurons, par):\n",
    "    xin = pd.DataFrame(xin)\n",
    "    yin = pd.DataFrame(yin)\n",
    "    \n",
    "    nDimension = xin.shape[1]     # Dimensao de entrada.\n",
    "\n",
    "    # Adiciona ou não um termo de polarização ao vetor de treinamento w.\n",
    "    if par == 1:\n",
    "        xin.insert(nDimension, nDimension, 1)\n",
    "        # Z<−replicate(p, runif((n+1),−0.5,0.5))\n",
    "        Z = [np.random.uniform(low=-0.5, high=0.5, size=nDimension+1) for _ in range(nNeurons)]\n",
    "    else:\n",
    "        Z = [np.random.uniform(low=-0.5, high=0.5, size=nDimension) for _ in range(nNeurons)]\n",
    "   \n",
    "    Z = pd.DataFrame(Z)\n",
    "    Z = Z.T\n",
    "\n",
    "    H = np.tanh(xin @ Z)\n",
    "\n",
    "    W = ( np.linalg.pinv(H) @ yin)    #W<−pseudoinverse(H) %*% yin \n",
    "\n",
    "    return [W,H,Z]\n"
   ]
  },
  {
   "cell_type": "markdown",
   "metadata": {},
   "source": [
    "Algoritmo de Predição da ELM traduzido de R para Python"
   ]
  },
  {
   "cell_type": "code",
   "execution_count": 3,
   "metadata": {},
   "outputs": [],
   "source": [
    "# Saída de uma rede ELM\n",
    "def YELM(xin, Z, W, par):\n",
    "\n",
    "    xin = pd.DataFrame(xin)\n",
    "    Z = pd.DataFrame(Z)\n",
    "    W = pd.DataFrame(W)\n",
    "\n",
    "    nDimension = xin.shape[1]  # Dimensao de entrada.\n",
    "\n",
    "    # Adiciona ou não termo de polarização\n",
    "    if(par == 1):\n",
    "        xin.insert(nDimension, nDimension, 1)\n",
    "        # np.c_[ xin, np.ones(xin.shape[0]) ] \n",
    "\n",
    "    # print(\"xin:\", xin.shape)\n",
    "    # print(\"Z:\", Z.shape)\n",
    "    H = np.tanh(xin @ Z)\n",
    "    # print(\"H:\", H.shape)\n",
    "    # print(\"W:\", W.shape)\n",
    "    Yhat = np.sign(H @ W)\n",
    "    \n",
    "    return Yhat"
   ]
  },
  {
   "cell_type": "code",
   "execution_count": 19,
   "metadata": {},
   "outputs": [
    {
     "name": "stdout",
     "output_type": "stream",
     "text": [
      "Accuracy:  0.7368421052631579\n"
     ]
    }
   ],
   "source": [
    "import matplotlib.pyplot as plt\n",
    "from sklearn.model_selection import train_test_split\n",
    "from sklearn.datasets import load_breast_cancer\n",
    "from sklearn.metrics import accuracy_score\n",
    "\n",
    "nNeurons = 100\n",
    "X, y = load_breast_cancer(return_X_y=True)\n",
    "X_train, X_test, y_train, y_test = train_test_split(X, y, test_size=0.2)\n",
    "\n",
    "retlist = trainELM(X_train, y_train, nNeurons, 1)\n",
    "\n",
    "W = retlist[0]\n",
    "H = retlist[1]\n",
    "Z = retlist[2]\n",
    "\n",
    "# Make prediction from training process\n",
    "yhat = YELM(X_test, Z, W, 1)\n",
    "yhat = (yhat > 0.5).astype(int)\n",
    "yhat = pd.DataFrame(yhat).to_numpy()\n",
    "\n",
    "print('Accuracy: ', accuracy_score(y_test, yhat))"
   ]
  }
 ],
 "metadata": {
  "interpreter": {
   "hash": "b0fa6594d8f4cbf19f97940f81e996739fb7646882a419484c72d19e05852a7e"
  },
  "kernelspec": {
   "display_name": "Python 3.9.12 64-bit",
   "language": "python",
   "name": "python3"
  },
  "language_info": {
   "codemirror_mode": {
    "name": "ipython",
    "version": 3
   },
   "file_extension": ".py",
   "mimetype": "text/x-python",
   "name": "python",
   "nbconvert_exporter": "python",
   "pygments_lexer": "ipython3",
   "version": "3.9.12"
  },
  "orig_nbformat": 4
 },
 "nbformat": 4,
 "nbformat_minor": 2
}

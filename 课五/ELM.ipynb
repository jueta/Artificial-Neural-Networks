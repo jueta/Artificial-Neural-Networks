{
 "cells": [
  {
   "cell_type": "markdown",
   "metadata": {},
   "source": [
    "# Redes Neurais Artificiais\n",
    " **Nome: João Pedro Miranda Marques**\n",
    " \n",
    " **Matrícula: 2017050495** "
   ]
  },
  {
   "cell_type": "markdown",
   "metadata": {},
   "source": [
    "# Extreme Learning Machine - ELM"
   ]
  },
  {
   "cell_type": "code",
   "execution_count": 1,
   "metadata": {},
   "outputs": [],
   "source": [
    "import matplotlib.pyplot as plt\n",
    "import numpy as np\n",
    "import pandas as pd"
   ]
  },
  {
   "cell_type": "code",
   "execution_count": null,
   "metadata": {},
   "outputs": [],
   "source": [
    "def trainELM(xin, yin, p, par):\n",
    "    xin = pd.DataFrame(xin)\n",
    "    yin = pd.DataFrame(yin)\n",
    "    \n",
    "    nDimension = xin.shape[1]     # Dimensao de entrada.\n",
    "\n",
    "    # Adiciona ou não um termo de polarização ao vetor de treinamento w.\n",
    "    if par == 1:\n",
    "        xin.insert(nDimension, nDimension, 1)\n",
    "        # Z<−replicate(p, runif((n+1),−0.5,0.5))\n",
    "        Z = [np.random.uniform(low=-0.5, high=0.5, size=nDimension+1) for _ in range(p)]\n",
    "    else:\n",
    "        Z = [np.random.uniform(low=-0.5, high=0.5, size=nDimension) for _ in range(p)]\n",
    "   \n",
    "    Z = pd.DataFrame(Z)\n",
    "    Z = Z.T\n",
    "    print(Z)\n",
    "\n",
    "    # até aqui ta funfando legal\n",
    "\n",
    "    H = np.tanh(np.dot(xin, Z))\n",
    "\n",
    "    #W<−pseudoinverse(H) %*% yin \n",
    "    # W<−(solve(t(H) %*% H) %*% t(H)) %*% yin\n",
    "    W = np.dot( np.dot( np.dot(H.T, H), H.T ), yin) # tem pau aqui\n",
    "\n"
   ]
  },
  {
   "cell_type": "code",
   "execution_count": 20,
   "metadata": {},
   "outputs": [
    {
     "name": "stdout",
     "output_type": "stream",
     "text": [
      "         0         1         2         3         4         5         6   \\\n",
      "0  0.468751  0.039625  0.377514 -0.453978  0.267929  0.281961  0.439588   \n",
      "1  0.250667  0.051053 -0.018078 -0.396838 -0.238902 -0.300412  0.160980   \n",
      "2  0.274605  0.407376  0.051076  0.085232 -0.418444  0.473560 -0.074859   \n",
      "\n",
      "         7         8         9         10        11        12        13  \\\n",
      "0 -0.163675  0.243832  0.461397  0.224761 -0.310573  0.032137  0.184740   \n",
      "1 -0.203252 -0.077151  0.133338 -0.415005 -0.461168 -0.483244  0.400792   \n",
      "2 -0.258774 -0.295923  0.229911 -0.100986 -0.468656  0.020368  0.388212   \n",
      "\n",
      "         14        15        16        17        18        19  \n",
      "0 -0.183917  0.095920  0.271085  0.361656  0.314500 -0.422930  \n",
      "1  0.421739  0.155537  0.101545  0.134753  0.457720  0.242581  \n",
      "2 -0.440404 -0.332961  0.195695  0.167293 -0.179994  0.032484  \n"
     ]
    }
   ],
   "source": [
    "Z = [np.random.uniform(low=-0.5, high=0.5, size=3) for _ in range(20)]\n",
    "Z = pd.DataFrame(Z)\n",
    "Z = Z.T\n",
    "print(Z)\n",
    "\n"
   ]
  }
 ],
 "metadata": {
  "interpreter": {
   "hash": "b0fa6594d8f4cbf19f97940f81e996739fb7646882a419484c72d19e05852a7e"
  },
  "kernelspec": {
   "display_name": "Python 3.9.12 64-bit",
   "language": "python",
   "name": "python3"
  },
  "language_info": {
   "codemirror_mode": {
    "name": "ipython",
    "version": 3
   },
   "file_extension": ".py",
   "mimetype": "text/x-python",
   "name": "python",
   "nbconvert_exporter": "python",
   "pygments_lexer": "ipython3",
   "version": "3.9.12"
  },
  "orig_nbformat": 4
 },
 "nbformat": 4,
 "nbformat_minor": 2
}
